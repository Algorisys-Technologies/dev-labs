{
 "cells": [
  {
   "cell_type": "code",
   "execution_count": 1,
   "metadata": {},
   "outputs": [
    {
     "name": "stderr",
     "output_type": "stream",
     "text": [
      "d:\\SearchPDF\\venv\\lib\\site-packages\\tqdm\\auto.py:21: TqdmWarning: IProgress not found. Please update jupyter and ipywidgets. See https://ipywidgets.readthedocs.io/en/stable/user_install.html\n",
      "  from .autonotebook import tqdm as notebook_tqdm\n",
      "WARNING[XFORMERS]: xFormers can't load C++/CUDA extensions. xFormers was built for:\n",
      "    PyTorch 2.4.0+cu121 with CUDA 1201 (you have 2.4.0+cu118)\n",
      "    Python  3.10.11 (you have 3.10.14)\n",
      "  Please reinstall xformers (see https://github.com/facebookresearch/xformers#installing-xformers)\n",
      "  Memory-efficient attention, SwiGLU, sparse and more won't be available.\n",
      "  Set XFORMERS_MORE_DETAILS=1 for more details\n",
      "Loading checkpoint shards: 100%|██████████| 2/2 [00:01<00:00,  1.82it/s]it/s]\n",
      "Loading pipeline components...: 100%|██████████| 9/9 [00:03<00:00,  2.45it/s]\n",
      "Token indices sequence length is longer than the specified maximum sequence length for this model (103 > 77). Running this sequence through the model will result in indexing errors\n",
      "The following part of your input was truncated because CLIP can only handle sequences up to 77 tokens: ['<|endoftext|><|endoftext|><|endoftext|><|endoftext|><|endoftext|><|endoftext|><|endoftext|><|endoftext|><|endoftext|><|endoftext|><|endoftext|><|endoftext|><|endoftext|><|endoftext|><|endoftext|><|endoftext|><|endoftext|><|endoftext|><|endoftext|><|endoftext|><|endoftext|><|endoftext|><|endoftext|><|endoftext|><|endoftext|><|endoftext|>', 'diamond, chipped, rusted, low - quality rendering, simplistic design, plain, lack of detail, amateurish.']\n",
      "100%|██████████| 25/25 [05:27<00:00, 13.12s/it]\n",
      "d:\\SearchPDF\\venv\\lib\\site-packages\\diffusers\\pipelines\\kandinsky2_2\\pipeline_kandinsky2_2_img2img.py:276: FutureWarning: `callback_steps` is deprecated and will be removed in version 1.0.0. Passing `callback_steps` as an input argument to `__call__` is deprecated, consider use `callback_on_step_end`\n",
      "  deprecate(\n",
      "100%|██████████| 50/50 [21:17<00:00, 25.55s/it]\n"
     ]
    }
   ],
   "source": [
    "import torch\n",
    "from diffusers import AutoPipelineForImage2Image\n",
    "from diffusers.utils import make_image_grid, load_image\n",
    "import os\n",
    "from PIL import Image\n",
    "\n",
    "# Directory where the model will be saved\n",
    "save_directory = \"../kandinsky-2-2-decoder\"\n",
    "\n",
    "# Check if the model is already saved locally\n",
    "if os.path.exists(save_directory):\n",
    "    # Load the model from the local directory\n",
    "    pipeline = AutoPipelineForImage2Image.from_pretrained(save_directory)\n",
    "else:\n",
    "    # Load the model from the internet and save it locally\n",
    "    pipeline = AutoPipelineForImage2Image.from_pretrained(\n",
    "        \"kandinsky-community/kandinsky-2-2-decoder\"\n",
    "    )\n",
    "    # Save the model locally\n",
    "    pipeline.save_pretrained(save_directory)\n",
    "\n",
    "# Prepare image\n",
    "# url = \"https://huggingface.co/datasets/huggingface/documentation-images/resolve/main/diffusers/img2img-init.png\"\n",
    "# init_image = load_image(url)\n",
    "\n",
    "image_path = \"../download.jpg\"\n",
    "init_image = Image.open(image_path)\n",
    "\n",
    "prompt = \"The image is of a beautiful diamond engagement ring. The ring is made of yellow gold and has a round brilliant cut diamond in the center. The diamond is surrounded by a halo of smaller diamonds on either side. The band of the ring is also covered in small diamonds, creating a sparkling effect. The overall design is elegant and luxurious.\"\n",
    "negative_prompt = \"blurry, out of focus, low resolution, extra diamonds, distorted ring shape, broken band, dark lighting, dull colors, deformed diamonds, cartoonish, pixelated, poorly rendered, flat, unrealistic reflections, cheap appearance, tarnished metal, unnatural shadows, dirty, scratches, overly ornate, gaudy, unbalanced design, misaligned halo, cracked diamond, chipped, rusted, low-quality rendering, simplistic design, plain, lack of detail, amateurish.\"\n",
    "# Generate the image\n",
    "image = pipeline(prompt,negative_prompt=negative_prompt,guidance_scale=3,strength=0.5, image=init_image).images[0]\n",
    "\n",
    "# Save the generated image locally\n",
    "image.save(\"../image/kandinsky_gen_img.png\")\n",
    "\n",
    "# Display the original and generated images side by side\n",
    "grid = make_image_grid([init_image, image], rows=1, cols=2)\n",
    "grid.save(\"image_grid4.png\")"
   ]
  },
  {
   "cell_type": "code",
   "execution_count": null,
   "metadata": {},
   "outputs": [],
   "source": []
  }
 ],
 "metadata": {
  "kernelspec": {
   "display_name": "Python 3",
   "language": "python",
   "name": "python3"
  },
  "language_info": {
   "codemirror_mode": {
    "name": "ipython",
    "version": 3
   },
   "file_extension": ".py",
   "mimetype": "text/x-python",
   "name": "python",
   "nbconvert_exporter": "python",
   "pygments_lexer": "ipython3",
   "version": "3.10.14"
  }
 },
 "nbformat": 4,
 "nbformat_minor": 2
}
