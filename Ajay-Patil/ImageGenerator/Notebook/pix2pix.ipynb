{
 "cells": [
  {
   "cell_type": "code",
   "execution_count": 1,
   "metadata": {},
   "outputs": [
    {
     "name": "stderr",
     "output_type": "stream",
     "text": [
      "d:\\SearchPDF\\venv\\lib\\site-packages\\tqdm\\auto.py:21: TqdmWarning: IProgress not found. Please update jupyter and ipywidgets. See https://ipywidgets.readthedocs.io/en/stable/user_install.html\n",
      "  from .autonotebook import tqdm as notebook_tqdm\n",
      "WARNING[XFORMERS]: xFormers can't load C++/CUDA extensions. xFormers was built for:\n",
      "    PyTorch 2.4.0+cu121 with CUDA 1201 (you have 2.4.0+cu118)\n",
      "    Python  3.10.11 (you have 3.10.14)\n",
      "  Please reinstall xformers (see https://github.com/facebookresearch/xformers#installing-xformers)\n",
      "  Memory-efficient attention, SwiGLU, sparse and more won't be available.\n",
      "  Set XFORMERS_MORE_DETAILS=1 for more details\n"
     ]
    },
    {
     "name": "stdout",
     "output_type": "stream",
     "text": [
      "Loading the model from local storage...\n"
     ]
    },
    {
     "name": "stderr",
     "output_type": "stream",
     "text": [
      "Loading pipeline components...: 100%|██████████| 6/6 [00:10<00:00,  1.78s/it]\n",
      "100%|██████████| 10/10 [00:59<00:00,  5.94s/it]\n"
     ]
    }
   ],
   "source": [
    "import os\n",
    "import PIL\n",
    "import requests\n",
    "import torch\n",
    "from diffusers import StableDiffusionInstructPix2PixPipeline, EulerAncestralDiscreteScheduler\n",
    "\n",
    "# Define the local path where the model will be saved\n",
    "model_id = \"timbrooks/instruct-pix2pix\"\n",
    "local_model_dir = \"../models/instruct-pix2pix\"\n",
    "\n",
    "# Check if the model exists locally\n",
    "if not os.path.exists(local_model_dir):\n",
    "    # If the model doesn't exist locally, download and save it\n",
    "    print(\"Downloading and saving the model...\")\n",
    "    pipe = StableDiffusionInstructPix2PixPipeline.from_pretrained(model_id, safety_checker=None)\n",
    "    pipe.save_pretrained(local_model_dir)\n",
    "else:\n",
    "    # If the model exists locally, load it from the saved directory\n",
    "    print(\"Loading the model from local storage...\")\n",
    "    pipe = StableDiffusionInstructPix2PixPipeline.from_pretrained(local_model_dir, safety_checker=None)\n",
    "\n",
    "# Ensure the model is on the CPU\n",
    "pipe.to(\"cpu\")\n",
    "\n",
    "# Set the scheduler\n",
    "pipe.scheduler = EulerAncestralDiscreteScheduler.from_config(pipe.scheduler.config)\n",
    "\n",
    "# Load a local image\n",
    "def load_local_image(image_path):\n",
    "    image = PIL.Image.open(image_path)\n",
    "    image = PIL.ImageOps.exif_transpose(image)\n",
    "    image = image.convert(\"RGB\")\n",
    "    return image\n",
    "\n",
    "# Specify the path to the local image\n",
    "local_image_path = \"../download.jpg\"  # Update this to your local image path\n",
    "image = load_local_image(local_image_path)\n",
    "\n",
    "# Define the prompt and generate images\n",
    "prompt =\"The image is of a beautiful diamond engagement ring. The ring is made of yellow gold and has a round brilliant cut diamond in the center. The diamond is surrounded by a halo of smaller diamonds on either side. The band of the ring is also covered in small diamonds, creating a sparkling effect. The overall design is elegant and luxurious.\"\n",
    "images = pipe(prompt, image=image, num_inference_steps=10, image_guidance_scale=1).images\n",
    "\n",
    "# Save the generated image to a file\n",
    "output_image_path = \"../image/pix2pix.png\"\n",
    "images[0].save(output_image_path)\n",
    "\n",
    "# Display the resulting image\n",
    "images[0].show()"
   ]
  },
  {
   "cell_type": "code",
   "execution_count": null,
   "metadata": {},
   "outputs": [],
   "source": []
  }
 ],
 "metadata": {
  "kernelspec": {
   "display_name": "Python 3",
   "language": "python",
   "name": "python3"
  },
  "language_info": {
   "codemirror_mode": {
    "name": "ipython",
    "version": 3
   },
   "file_extension": ".py",
   "mimetype": "text/x-python",
   "name": "python",
   "nbconvert_exporter": "python",
   "pygments_lexer": "ipython3",
   "version": "3.10.14"
  }
 },
 "nbformat": 4,
 "nbformat_minor": 2
}
